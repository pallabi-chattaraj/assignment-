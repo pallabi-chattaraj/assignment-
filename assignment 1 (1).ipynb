{
 "cells": [
  {
   "cell_type": "code",
   "execution_count": null,
   "id": "b5a2a5e1",
   "metadata": {},
   "outputs": [],
   "source": [
    "# Q1: Convert an integer to a floatig-point number>>>\n"
   ]
  },
  {
   "cell_type": "code",
   "execution_count": 2,
   "id": "6fb237ca",
   "metadata": {},
   "outputs": [
    {
     "name": "stdout",
     "output_type": "stream",
     "text": [
      "<class 'int'>\n",
      "<class 'float'>\n",
      "7.0\n"
     ]
    }
   ],
   "source": [
    "num = 7\n",
    "print(type(num))\n",
    "\n",
    "float_num = float(num)\n",
    "print(type(float_num))\n",
    "print(float_num)"
   ]
  },
  {
   "cell_type": "code",
   "execution_count": null,
   "id": "fdec3203",
   "metadata": {},
   "outputs": [],
   "source": [
    "# Q2:Covert a float to a iteger>>>\n"
   ]
  },
  {
   "cell_type": "code",
   "execution_count": 5,
   "id": "6d53b18a",
   "metadata": {},
   "outputs": [
    {
     "name": "stdout",
     "output_type": "stream",
     "text": [
      "<class 'float'>\n",
      "7.6\n",
      "<class 'int'>\n",
      "7\n",
      "<class 'int'>\n",
      "8\n"
     ]
    }
   ],
   "source": [
    "import math\n",
    "num = 7.6\n",
    "print(type(num))\n",
    "print(num)\n",
    "\n",
    "floor_value = math.floor(num)\n",
    "ceil_value = math.ceil(num)\n",
    "print(type(floor_value))\n",
    "print(floor_value)\n",
    "print(type(ceil_value))\n",
    "print(ceil_value)\n"
   ]
  },
  {
   "cell_type": "code",
   "execution_count": null,
   "id": "b9033f6b",
   "metadata": {},
   "outputs": [],
   "source": [
    "#Q3: Convert an integer to a string>>>\n"
   ]
  },
  {
   "cell_type": "code",
   "execution_count": 9,
   "id": "4e87e6be",
   "metadata": {},
   "outputs": [
    {
     "name": "stdout",
     "output_type": "stream",
     "text": [
      "<class 'int'>\n",
      "<class 'float'>\n",
      "10.0\n"
     ]
    }
   ],
   "source": [
    "Num = 10\n",
    "print(type(Num))\n",
    "float_num = float(Num)\n",
    "print(type(float_num))\n",
    "print(float_num)\n",
    "\n"
   ]
  },
  {
   "cell_type": "code",
   "execution_count": null,
   "id": "34b839e3",
   "metadata": {},
   "outputs": [],
   "source": [
    "#Q4: Convert a list to a tuple>>>\n"
   ]
  },
  {
   "cell_type": "code",
   "execution_count": 12,
   "id": "fe20a5db",
   "metadata": {},
   "outputs": [
    {
     "name": "stdout",
     "output_type": "stream",
     "text": [
      "<class 'list'>\n",
      "<class 'tuple'>\n",
      "(30, 40, 10, 20, 4.6, 'ram', 'madhu', 'akash')\n"
     ]
    }
   ],
   "source": [
    "my_list= [30 , 40 , 10, 20 , 4.6, \"ram\", \"madhu\" , \"akash\"]\n",
    "print(type(my_list))\n",
    "\n",
    "my_tuple= tuple(my_list)\n",
    "print(type(my_tuple))\n",
    "print(my_tuple)"
   ]
  },
  {
   "cell_type": "code",
   "execution_count": null,
   "id": "ca0fbbb3",
   "metadata": {},
   "outputs": [],
   "source": [
    "#Q5: Convert a tuple to a list>>>\n"
   ]
  },
  {
   "cell_type": "code",
   "execution_count": 18,
   "id": "3f984d06",
   "metadata": {},
   "outputs": [
    {
     "name": "stdout",
     "output_type": "stream",
     "text": [
      "<class 'tuple'>\n",
      "(20, 30, -40, 'shreyashi', 'puja', 'binay', [2, 3, 5], 5.7)\n",
      "<class 'list'>\n",
      "[20, 30, -40, 'shreyashi', 'puja', 'binay', [2, 3, 5], 5.7]\n"
     ]
    }
   ],
   "source": [
    "my_tuple= (20 , 30 , - 40, \"shreyashi\",\"puja\",\"binay\",[2, 3, 5] , 5.7 )\n",
    "\n",
    "print(type(my_tuple))\n",
    "\n",
    "print(my_tuple)\n",
    "\n",
    "my_list= list(my_tuple)\n",
    "\n",
    "print(type(my_list))\n",
    "\n",
    "print(my_list)"
   ]
  },
  {
   "cell_type": "code",
   "execution_count": null,
   "id": "beba752a",
   "metadata": {},
   "outputs": [],
   "source": [
    "#Q6: Convert a decimal number to binary>>>\n"
   ]
  },
  {
   "cell_type": "code",
   "execution_count": 19,
   "id": "5337abfd",
   "metadata": {},
   "outputs": [
    {
     "data": {
      "text/plain": [
       "'0b10011100'"
      ]
     },
     "execution_count": 19,
     "metadata": {},
     "output_type": "execute_result"
    }
   ],
   "source": [
    "num = 156\n",
    "bin(num)"
   ]
  },
  {
   "cell_type": "code",
   "execution_count": null,
   "id": "6238d68a",
   "metadata": {},
   "outputs": [],
   "source": [
    "#Q7:Convert a non-zero number to boolean>>>\n"
   ]
  },
  {
   "cell_type": "code",
   "execution_count": 21,
   "id": "93dc2501",
   "metadata": {},
   "outputs": [
    {
     "name": "stdout",
     "output_type": "stream",
     "text": [
      "<class 'bool'>\n",
      "True\n"
     ]
    }
   ],
   "source": [
    "num = 10\n",
    "boolean_num= bool(num)\n",
    "\n",
    "print(type(boolean_num))\n",
    "print(boolean_num)"
   ]
  },
  {
   "cell_type": "code",
   "execution_count": null,
   "id": "441de1ad",
   "metadata": {},
   "outputs": [],
   "source": []
  }
 ],
 "metadata": {
  "kernelspec": {
   "display_name": "Python 3 (ipykernel)",
   "language": "python",
   "name": "python3"
  },
  "language_info": {
   "codemirror_mode": {
    "name": "ipython",
    "version": 3
   },
   "file_extension": ".py",
   "mimetype": "text/x-python",
   "name": "python",
   "nbconvert_exporter": "python",
   "pygments_lexer": "ipython3",
   "version": "3.11.5"
  }
 },
 "nbformat": 4,
 "nbformat_minor": 5
}
