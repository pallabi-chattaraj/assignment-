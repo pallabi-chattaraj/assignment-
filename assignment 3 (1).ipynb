{
 "cells": [
  {
   "cell_type": "code",
   "execution_count": null,
   "id": "4b25ffe5",
   "metadata": {},
   "outputs": [],
   "source": [
    "# Q1: Calculate the sum, difference, product, and quotient of two numbers>>>\n"
   ]
  },
  {
   "cell_type": "code",
   "execution_count": 1,
   "id": "d840412a",
   "metadata": {},
   "outputs": [
    {
     "name": "stdout",
     "output_type": "stream",
     "text": [
      "enter a number here: 153\n",
      "enter a number here: 100\n",
      "sum of entered numbers is :  253.0\n",
      "difference  of entered numbers is : 53.0\n",
      "product of entered numbers is :  15300.0\n",
      "quotient value of enterted numbers is : 1.53\n"
     ]
    }
   ],
   "source": [
    "a = float(input(\"enter a number here: \"))\n",
    "b =  float(input(\"enter a number here: \"))\n",
    "\n",
    "sum_value = a+b\n",
    "diff_value = a-b\n",
    "product_value = a*b\n",
    "quotient_value = a/b\n",
    "\n",
    "print(\"sum of entered numbers is : \", sum_value )\n",
    "print(\"difference  of entered numbers is :\", diff_value)\n",
    "print(\"product of entered numbers is : \",product_value)\n",
    "print(\"quotient value of enterted numbers is :\",quotient_value)\n",
    "\n"
   ]
  },
  {
   "cell_type": "code",
   "execution_count": null,
   "id": "8485d25b",
   "metadata": {},
   "outputs": [],
   "source": [
    "# Q2: Perform various assignment operations on a variable>>>\n"
   ]
  },
  {
   "cell_type": "code",
   "execution_count": 23,
   "id": "f6aebc01",
   "metadata": {},
   "outputs": [
    {
     "name": "stdout",
     "output_type": "stream",
     "text": [
      "enter a number here: 3\n",
      "enter a number here: 3\n",
      "6.0\n"
     ]
    }
   ],
   "source": [
    "a = float(input (\"enter a number here: \"))\n",
    "b= float(input (\"enter a number here: \"))\n",
    "\n",
    "# add and assignment \n",
    "a+=b\n",
    "\n",
    "print(a)"
   ]
  },
  {
   "cell_type": "code",
   "execution_count": 24,
   "id": "7033b653",
   "metadata": {},
   "outputs": [
    {
     "name": "stdout",
     "output_type": "stream",
     "text": [
      "enter a number here: 60\n",
      "enter a number here: 50\n",
      "10.0\n"
     ]
    }
   ],
   "source": [
    "a = float(input (\"enter a number here: \"))\n",
    "b= float(input (\"enter a number here: \"))\n",
    "\n",
    "# subtract and assignment \n",
    "a-=b\n",
    "print(a)"
   ]
  },
  {
   "cell_type": "code",
   "execution_count": 25,
   "id": "cd733a6e",
   "metadata": {},
   "outputs": [
    {
     "name": "stdout",
     "output_type": "stream",
     "text": [
      "enter a number here: 50\n",
      "enter a number here: 40\n",
      "2000.0\n"
     ]
    }
   ],
   "source": [
    "a = float(input (\"enter a number here: \"))\n",
    "b= float(input (\"enter a number here: \"))\n",
    "\n",
    "\n",
    "# multiply and assignment\n",
    "\n",
    "a*=b\n",
    "\n",
    "print(a)"
   ]
  },
  {
   "cell_type": "code",
   "execution_count": 26,
   "id": "3c6343f3",
   "metadata": {},
   "outputs": [
    {
     "name": "stdout",
     "output_type": "stream",
     "text": [
      "enter a number here: 675\n",
      "enter a number here: 43\n",
      "15.69767441860465\n"
     ]
    }
   ],
   "source": [
    "a = float(input (\"enter a number here: \"))\n",
    "b= float(input (\"enter a number here: \"))\n",
    "\n",
    "\n",
    "# divide and asassignment \n",
    "\n",
    "a/=b\n",
    "\n",
    "print(a)"
   ]
  },
  {
   "cell_type": "code",
   "execution_count": 27,
   "id": "f928799e",
   "metadata": {},
   "outputs": [
    {
     "name": "stdout",
     "output_type": "stream",
     "text": [
      "enter a number here: 67\n",
      "enter a number here: 56\n",
      "11.0\n"
     ]
    }
   ],
   "source": [
    "a = float(input (\"enter a number here: \"))\n",
    "b= float(input (\"enter a number here: \"))\n",
    "\n",
    "\n",
    "#modules and assignments \n",
    "\n",
    "a%=b\n",
    "print(a)"
   ]
  },
  {
   "cell_type": "code",
   "execution_count": null,
   "id": "5db54ef6",
   "metadata": {},
   "outputs": [],
   "source": [
    "#Q3: Compare two numbers and print the results>>>\n"
   ]
  },
  {
   "cell_type": "code",
   "execution_count": 36,
   "id": "b11e6e60",
   "metadata": {},
   "outputs": [
    {
     "name": "stdout",
     "output_type": "stream",
     "text": [
      "enter a number here: 65\n",
      "enter a number here: 65\n",
      "both values are equal\n"
     ]
    }
   ],
   "source": [
    "num1 = float(input(\"enter a number here: \"))\n",
    "num2 = float(input(\"enter a number here: \"))\n",
    "\n",
    "if num1==num2:\n",
    "    print(\"both values are equal\" )\n",
    "elif num1>num2:\n",
    "    print(\"first one is greater then 2nd one\")\n",
    "else :\n",
    "    print(\"first one is less than 2nd one \")\n",
    "\n",
    "\n",
    "\n"
   ]
  },
  {
   "cell_type": "code",
   "execution_count": null,
   "id": "816fa070",
   "metadata": {},
   "outputs": [],
   "source": [
    "#Q4:Check conditions using logical operators>>>"
   ]
  },
  {
   "cell_type": "code",
   "execution_count": 44,
   "id": "37c9639d",
   "metadata": {},
   "outputs": [
    {
     "data": {
      "text/plain": [
       "False"
      ]
     },
     "execution_count": 44,
     "metadata": {},
     "output_type": "execute_result"
    }
   ],
   "source": [
    "#  and operators\n",
    "\n",
    "a = 2\n",
    "b = 3\n",
    "\n",
    "a*b==7 and a+b ==5\n",
    "\n",
    "\n"
   ]
  },
  {
   "cell_type": "code",
   "execution_count": 41,
   "id": "17fe1ded",
   "metadata": {},
   "outputs": [
    {
     "data": {
      "text/plain": [
       "True"
      ]
     },
     "execution_count": 41,
     "metadata": {},
     "output_type": "execute_result"
    }
   ],
   "source": [
    "a = 2\n",
    "b = 3\n",
    "\n",
    "a*b==6 and a+b==5\n",
    " \n",
    "    "
   ]
  },
  {
   "cell_type": "code",
   "execution_count": 45,
   "id": "3a088dc5",
   "metadata": {},
   "outputs": [
    {
     "data": {
      "text/plain": [
       "False"
      ]
     },
     "execution_count": 45,
     "metadata": {},
     "output_type": "execute_result"
    }
   ],
   "source": [
    "4+4 == 0 and 4-4 ==0\n",
    "\n"
   ]
  },
  {
   "cell_type": "code",
   "execution_count": 46,
   "id": "cd03f81e",
   "metadata": {},
   "outputs": [
    {
     "data": {
      "text/plain": [
       "True"
      ]
     },
     "execution_count": 46,
     "metadata": {},
     "output_type": "execute_result"
    }
   ],
   "source": [
    "# or operators\n",
    "\n",
    "5+5 ==10 or 5-4==9"
   ]
  },
  {
   "cell_type": "code",
   "execution_count": 67,
   "id": "29afac98",
   "metadata": {},
   "outputs": [
    {
     "data": {
      "text/plain": [
       "True"
      ]
     },
     "execution_count": 67,
     "metadata": {},
     "output_type": "execute_result"
    }
   ],
   "source": [
    "# not operators \n",
    "\n",
    "5+5 != 9\n",
    "    \n"
   ]
  },
  {
   "cell_type": "code",
   "execution_count": 70,
   "id": "8bf67f72",
   "metadata": {},
   "outputs": [
    {
     "data": {
      "text/plain": [
       "False"
      ]
     },
     "execution_count": 70,
     "metadata": {},
     "output_type": "execute_result"
    }
   ],
   "source": [
    "a = 30\n",
    "b = 20\n",
    "a-b !=10"
   ]
  },
  {
   "cell_type": "code",
   "execution_count": null,
   "id": "10a583bf",
   "metadata": {},
   "outputs": [],
   "source": [
    "#Q5 : Check the identity of variables>>>"
   ]
  },
  {
   "cell_type": "code",
   "execution_count": null,
   "id": "bb229cd5",
   "metadata": {},
   "outputs": [],
   "source": [
    "#q6:Perform bitwise operations on any two integers>>>"
   ]
  },
  {
   "cell_type": "code",
   "execution_count": 71,
   "id": "26abf951",
   "metadata": {},
   "outputs": [
    {
     "data": {
      "text/plain": [
       "'0b110110'"
      ]
     },
     "execution_count": 71,
     "metadata": {},
     "output_type": "execute_result"
    }
   ],
   "source": [
    "bin(18 * 3)"
   ]
  },
  {
   "cell_type": "code",
   "execution_count": 72,
   "id": "2a77dcfb",
   "metadata": {},
   "outputs": [
    {
     "data": {
      "text/plain": [
       "'0b10010'"
      ]
     },
     "execution_count": 72,
     "metadata": {},
     "output_type": "execute_result"
    }
   ],
   "source": [
    "bin(18)"
   ]
  },
  {
   "cell_type": "code",
   "execution_count": 73,
   "id": "cac8abb3",
   "metadata": {},
   "outputs": [
    {
     "data": {
      "text/plain": [
       "'0b11'"
      ]
     },
     "execution_count": 73,
     "metadata": {},
     "output_type": "execute_result"
    }
   ],
   "source": [
    "bin(3)"
   ]
  },
  {
   "cell_type": "code",
   "execution_count": 75,
   "id": "21a6f295",
   "metadata": {},
   "outputs": [
    {
     "name": "stdout",
     "output_type": "stream",
     "text": [
      "hello, my name is pallabi and i'm 23 years old\n"
     ]
    }
   ],
   "source": [
    "name = \"pallabi\"\n",
    "age = 23\n",
    "print(f\"hello, my name is {name} and i'm {age} years old\")"
   ]
  },
  {
   "cell_type": "code",
   "execution_count": null,
   "id": "4fdb93c5",
   "metadata": {},
   "outputs": [],
   "source": []
  }
 ],
 "metadata": {
  "kernelspec": {
   "display_name": "Python 3 (ipykernel)",
   "language": "python",
   "name": "python3"
  },
  "language_info": {
   "codemirror_mode": {
    "name": "ipython",
    "version": 3
   },
   "file_extension": ".py",
   "mimetype": "text/x-python",
   "name": "python",
   "nbconvert_exporter": "python",
   "pygments_lexer": "ipython3",
   "version": "3.11.5"
  }
 },
 "nbformat": 4,
 "nbformat_minor": 5
}
