{
 "cells": [
  {
   "cell_type": "code",
   "execution_count": null,
   "id": "9cfeb216",
   "metadata": {},
   "outputs": [],
   "source": [
    "#Q1:Explain the significance of Python keywords and provide examples of five keywords>>>\n"
   ]
  },
  {
   "cell_type": "markdown",
   "id": "75023d11",
   "metadata": {},
   "source": [
    "#python keywords plays crutial role in defining the structure and code used in python.They are predefined, case sensitive words.\n",
    "#they are reserved words and with specific meaning . They cant assigned for any other purpose. we cant assign any veriable with this key words.\n",
    "\n",
    "#commonly  used keywords :\n",
    "      \n",
    "        #if , elif , else : Use for conditional statements.\n",
    "        \n",
    "        #True , False : Boolean\n",
    "        \n",
    "        #for while : use for loops\n",
    "        \n",
    "        #print return : to execute something\n",
    "        \n",
    "        #def class : to defining the function and classes.\n",
    "             \n",
    "\n",
    "        \n",
    "        \n"
   ]
  },
  {
   "cell_type": "code",
   "execution_count": null,
   "id": "c7d295a0",
   "metadata": {},
   "outputs": [],
   "source": []
  },
  {
   "cell_type": "code",
   "execution_count": null,
   "id": "354d1948",
   "metadata": {},
   "outputs": [],
   "source": [
    "#Q2: Descri0e the rules for defining identifiers in Python and provide an example\n"
   ]
  },
  {
   "cell_type": "raw",
   "id": "c26fcade",
   "metadata": {},
   "source": [
    "#the identifiers are the names that use to identify the variable, module , classes, function etc.identifiers servers as a reference to these program components,allows to create , access , and to manipulate.\n",
    " #rules:\n",
    "   # we can start identifiers with uppercase , lowercase , or underscore\n",
    "   # the subsequent characters can be letters , digits , or underscore\n",
    "   # we cant start a identifiers with digits\n",
    "   # they are case sentitive . for examlple 'myVar' and 'myvar' are not same\n",
    "   #  we cant use keywords as an identifiers\n",
    "    \n",
    "    # Example   :   Mylist, my_tuple, num1, ClassName, _Function_Name etc.\n",
    "    \n",
    "    "
   ]
  },
  {
   "cell_type": "code",
   "execution_count": null,
   "id": "00ab744b",
   "metadata": {},
   "outputs": [],
   "source": [
    "# Q3: What are comments in Python, and why are they useful? Provide an example\n"
   ]
  },
  {
   "cell_type": "markdown",
   "id": "a30adbb9",
   "metadata": {},
   "source": [
    "in python comments are use to provide the explanatory notes within the codes . so that it become easier for us or other developers to understand the functionalities ,  purpose or the logic behind the specific code.\n",
    "\n",
    "importance: : as  they gives us explanatory note it become easier to understand the logic behind a code.\n",
    "            : comments serve as documentations \n",
    "            \n",
    "example :    #this is an single line comment\n",
    "             print(\"hello world\") #this is another comment\n",
    "               "
   ]
  },
  {
   "cell_type": "code",
   "execution_count": null,
   "id": "73ef8f4d",
   "metadata": {},
   "outputs": [],
   "source": [
    "#Q4: Why is proper indentation important in Python?\n"
   ]
  },
  {
   "cell_type": "markdown",
   "id": "a901e707",
   "metadata": {},
   "source": [
    "proper indentation is important in python because without properly indenting the python code we will end up with endentation error. it will not allow us to run the code.\n",
    " "
   ]
  },
  {
   "cell_type": "code",
   "execution_count": 36,
   "id": "3b87f304",
   "metadata": {},
   "outputs": [
    {
     "name": "stdout",
     "output_type": "stream",
     "text": [
      "its a negetive number \n"
     ]
    }
   ],
   "source": [
    "#ex:\n",
    "\n",
    "num = -3\n",
    "\n",
    "if num > 0:\n",
    "    print(\"its a positive number\")\n",
    "else:\n",
    "    print(\"its a negetive number \")\n",
    "    \n",
    "    ## here the 4 space which is automatically coming after using the conditional statement is called indentation. which can also be manupulated by performer. \n",
    "        "
   ]
  },
  {
   "cell_type": "code",
   "execution_count": null,
   "id": "310485fa",
   "metadata": {},
   "outputs": [],
   "source": [
    "# Q5: What happens if indentation is incorrect in Python?\n"
   ]
  },
  {
   "cell_type": "code",
   "execution_count": 44,
   "id": "c3bfb5ad",
   "metadata": {},
   "outputs": [
    {
     "ename": "IndentationError",
     "evalue": "expected an indented block after 'if' statement on line 4 (2191156448.py, line 5)",
     "output_type": "error",
     "traceback": [
      "\u001b[1;36m  Cell \u001b[1;32mIn[44], line 5\u001b[1;36m\u001b[0m\n\u001b[1;33m    print(\"its an even number\")\u001b[0m\n\u001b[1;37m    ^\u001b[0m\n\u001b[1;31mIndentationError\u001b[0m\u001b[1;31m:\u001b[0m expected an indented block after 'if' statement on line 4\n"
     ]
    }
   ],
   "source": [
    "#it will through an indentation error\n",
    "\n",
    "num = 6\n",
    "if num%2 == 0:\n",
    "print(\"its an even number\")\n",
    "    \n",
    "else:\n",
    "print(\"odd number\")\n",
    "\n"
   ]
  },
  {
   "cell_type": "code",
   "execution_count": null,
   "id": "cba2afc6",
   "metadata": {},
   "outputs": [],
   "source": [
    "#Q6: Differentiate between expression and statement in Python with examples\n"
   ]
  },
  {
   "cell_type": "code",
   "execution_count": 49,
   "id": "03e10096",
   "metadata": {},
   "outputs": [
    {
     "data": {
      "text/plain": [
       "7"
      ]
     },
     "execution_count": 49,
     "metadata": {},
     "output_type": "execute_result"
    }
   ],
   "source": [
    "# expression\n",
    "\n",
    "a = 3\n",
    "b = 4\n",
    "\n",
    "a+b"
   ]
  },
  {
   "cell_type": "code",
   "execution_count": 62,
   "id": "e9d314f0",
   "metadata": {},
   "outputs": [
    {
     "name": "stdout",
     "output_type": "stream",
     "text": [
      "hello barsha\n"
     ]
    }
   ],
   "source": [
    "#statement\n",
    "\n",
    "a = \"barsha\"\n",
    "print(\"hello\" ,a)"
   ]
  },
  {
   "cell_type": "code",
   "execution_count": 61,
   "id": "0f14048f",
   "metadata": {},
   "outputs": [
    {
     "name": "stdout",
     "output_type": "stream",
     "text": [
      "hello barsha\n"
     ]
    }
   ],
   "source": [
    "a= \"barsha\"\n",
    "print(f\"hello {a}\")"
   ]
  },
  {
   "cell_type": "code",
   "execution_count": null,
   "id": "386a4c58",
   "metadata": {},
   "outputs": [],
   "source": []
  },
  {
   "cell_type": "code",
   "execution_count": null,
   "id": "f3e6b85e",
   "metadata": {},
   "outputs": [],
   "source": []
  }
 ],
 "metadata": {
  "kernelspec": {
   "display_name": "Python 3 (ipykernel)",
   "language": "python",
   "name": "python3"
  },
  "language_info": {
   "codemirror_mode": {
    "name": "ipython",
    "version": 3
   },
   "file_extension": ".py",
   "mimetype": "text/x-python",
   "name": "python",
   "nbconvert_exporter": "python",
   "pygments_lexer": "ipython3",
   "version": "3.11.5"
  }
 },
 "nbformat": 4,
 "nbformat_minor": 5
}
